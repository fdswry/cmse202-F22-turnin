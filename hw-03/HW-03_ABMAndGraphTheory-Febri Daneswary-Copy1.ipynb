{
 "cells": [
  {
   "cell_type": "markdown",
   "metadata": {},
   "source": [
    "# Homework Assignment #3 (Individual)\n",
    "## Agent Based Modeling (ABM), and Graph Theory"
   ]
  },
  {
   "cell_type": "markdown",
   "metadata": {},
   "source": [
    "### <p style=\"text-align: right;\"> &#9989; Febri Daneswary</p>\n",
    "### <p style=\"text-align: right;\"> &#9989; fdswry</p>"
   ]
  },
  {
   "cell_type": "markdown",
   "metadata": {
    "ExecuteTime": {
     "end_time": "2022-10-18T11:54:16.831524Z",
     "start_time": "2022-10-18T11:54:16.828005Z"
    }
   },
   "source": [
    "<img src= \"https://scottpjohnson.com/assets/img/disinfo-abm.png\" width = 600>"
   ]
  },
  {
   "cell_type": "markdown",
   "metadata": {},
   "source": [
    "### Goals for this homework assignment\n",
    "By the end of this assignment, you should be able to:\n",
    "* Use Git to create a repository, create a new branch, merge branches, track changes to the files within the repository, and push those changes to a remote repository.\n",
    "* Understand and implement agent objects.\n",
    "* Run agent based modeling.\n",
    "* Use your Pandas skills to load the adjacency matrix, understand the graph properties, and visualize it using Networkx.\n",
    "\n",
    "Work through the following assignment, making sure to follow all of the directions and answer all of the questions.\n",
    "\n",
    "There are **67 points** possible on this assignment. Point values for each part are included in the section headers and question prompts.\n",
    "\n",
    "**This assignment is due in roughly two weeks from now at 11:59 pm on Sunday, October 28.** It should be uploaded into the \"Homework Assignments\" submission folder for Homework #3.  Submission instructions can be found at the end of the notebook."
   ]
  },
  {
   "cell_type": "markdown",
   "metadata": {
    "ExecuteTime": {
     "end_time": "2022-10-18T11:50:15.383447Z",
     "start_time": "2022-10-18T11:50:15.377401Z"
    }
   },
   "source": [
    "------\n",
    "<a id=\"toc\"></a>\n",
    "\n",
    "## Table of contents\n",
    "\n",
    "0. [Part 0: Upgrade Packages](#part0) (1 point)\n",
    "\n",
    "1. [Part 1: Git](#gits) (13 points)\n",
    "\n",
    "2. [Part 2: ABM](#part2) (22 points)\n",
    "\n",
    "3. [Part 3: A Network of Thrones](#part3) (28 points)\n",
    "\n",
    "4. [Part 4: Finishing](#conclusion) (3 points)"
   ]
  },
  {
   "cell_type": "code",
   "execution_count": 1,
   "metadata": {
    "ExecuteTime": {
     "end_time": "2022-10-18T11:52:03.701120Z",
     "start_time": "2022-10-18T11:52:03.698350Z"
    }
   },
   "outputs": [
    {
     "name": "stdout",
     "output_type": "stream",
     "text": [
      "The total grade for this assignment is 67\n"
     ]
    }
   ],
   "source": [
    "grades = [1, 13, 22, 28, 3]\n",
    "\n",
    "print(f\"The total grade for this assignment is {sum(grades)}\" )"
   ]
  },
  {
   "cell_type": "markdown",
   "metadata": {},
   "source": [
    "---\n",
    "<a id=\"part0\"></a>\n",
    "[Back to ToC](#toc)\n",
    "\n",
    "# Part 0: Upgrade Packages\n",
    "\n",
    "**&#9989; Question 0.1 (1 point)**: Run the cell below. Do you have the correct packages ? If not upgrade them. **You must do this in order to avoid issues in the rest of the notebook.**"
   ]
  },
  {
   "cell_type": "code",
   "execution_count": 2,
   "metadata": {
    "ExecuteTime": {
     "end_time": "2022-10-18T11:45:18.406558Z",
     "start_time": "2022-10-18T11:45:16.336557Z"
    }
   },
   "outputs": [
    {
     "name": "stdout",
     "output_type": "stream",
     "text": [
      "Using matplotlib backend: agg\n",
      "Populating the interactive namespace from numpy and matplotlib\n",
      "Numpy version is 1.20.1 while it should be 1.23.4\n",
      "Scipy version is 1.6.2 while it should be 1.9.2\n",
      "Pandas version is 1.2.4 while it should be 1.5.0\n",
      "Networkx version is 2.5 while it should be 2.8.7\n"
     ]
    }
   ],
   "source": [
    "%pylab\n",
    "%matplotlib inline\n",
    "\n",
    "import scipy as scp\n",
    "import seaborn as sns\n",
    "\n",
    "sns.set_context(\"notebook\")\n",
    "\n",
    "import pandas as pd\n",
    "import networkx as nx\n",
    "\n",
    "\n",
    "print(f\"Numpy version is {np.__version__} while it should be 1.23.4\")\n",
    "print(f\"Scipy version is {scp.__version__} while it should be 1.9.2\")\n",
    "print(f\"Pandas version is {pd.__version__} while it should be 1.5.0\")\n",
    "print(f\"Networkx version is {nx.__version__} while it should be 2.8.7\")\n",
    "\n",
    "      "
   ]
  },
  {
   "cell_type": "markdown",
   "metadata": {},
   "source": [
    "---\n",
    "<a id=\"gits\"></a>\n",
    "[Back to ToC](#toc)\n",
    "\n",
    "# Part 1: Git (13 points)\n",
    "\n",
    "For this assignment, you're going to add it to the `cmse202-f22-turnin` repository you created in class so that you can track your progress on the assignment and preserve the final version that you turn in. In order to do this you need to\n",
    "\n",
    "**&#9989; Question 1.1 (1 point)**: Navigate to your `cmse202-f22-turnin` **local** repository and create a new directory called `hw-03` and copy this notebook in that new directory.\n",
    "\n"
   ]
  },
  {
   "cell_type": "markdown",
   "metadata": {
    "ExecuteTime": {
     "end_time": "2022-10-17T20:39:14.921268Z",
     "start_time": "2022-10-17T20:39:14.918076Z"
    }
   },
   "source": [
    "``` bash \n",
    "cd cmse202-F22-turnin\n",
    "mkdir hw-03 \n",
    "\n",
    "```"
   ]
  },
  {
   "cell_type": "markdown",
   "metadata": {},
   "source": [
    "&#9989; **Question 1.2 (1 point)**: Before you move on, put the command that your instructor should run to pull changes from  your repository in the markdown cell below."
   ]
  },
  {
   "cell_type": "markdown",
   "metadata": {},
   "source": [
    "``` bash\n",
    "git clone https://github.com/fdswry/cmse202-F22-turnin.git \n",
    "\n",
    "```"
   ]
  },
  {
   "cell_type": "markdown",
   "metadata": {},
   "source": [
    "&#9989; **Question 1.3 (2 points)**: Before you move on, create a new branch called `hw03_branch` and move into it. In the cell below put the command(s) to create a new branch and to checkout the new branch. (_Note_: your TA will be able to see if you have created the branch and its history)."
   ]
  },
  {
   "cell_type": "markdown",
   "metadata": {},
   "source": [
    "``` bash\n",
    "git branch hw03_branch\n",
    "git checkout hw03_branch\n",
    "git status\n",
    "\n",
    "```"
   ]
  },
  {
   "cell_type": "markdown",
   "metadata": {},
   "source": [
    "&#9989; **Question 1.4 (3 points)** Check the status of your local `git`.\n",
    "\n",
    "``` bash \n",
    "git status\n",
    "\n",
    "```\n",
    "Copy and paste below the output of the command.\n",
    "\n",
    "``` bash\n",
    "On branch hw03_branch\n",
    "Untracked files:\n",
    "  (use \"git add <file>...\" to include in what will be committed)\n",
    "        ./\n",
    "\n",
    "nothing added to commit but untracked files present (use \"git add\" to track)\n",
    "```\n",
    "\n",
    "What is the name of the branch you are in ? \n",
    "\n",
    "``` bash\n",
    "hw03_branch\n",
    "```\n",
    "\n",
    "**Important:** If you are still in the `main` branch you must switch to the new branch. "
   ]
  },
  {
   "cell_type": "markdown",
   "metadata": {},
   "source": [
    "&#9989; **Question 1.5 (3 points):**\n",
    "Add your name and GitHub username to the top of the notebook, then add and commit **ONLY** the notebook.\n",
    "\n",
    "``` bash\n",
    "git add -A\n",
    "git commit -m \"initial commit\"\n",
    "```\n",
    "\n",
    "What is the commit message you used ?\n",
    "\n",
    "``` bash\n",
    "\"initial commit\"\n",
    "```"
   ]
  },
  {
   "cell_type": "markdown",
   "metadata": {},
   "source": [
    "``` bash\n",
    "git status\n",
    "```"
   ]
  },
  {
   "cell_type": "markdown",
   "metadata": {},
   "source": [
    "&#9989; **Question 1.6 (1 point):** Before moving on. Check that the notebook you are working on is the correct one. Run the following cell. **Are you in the new folder you just created?** If not close this notebook and open the one in the `hw-03` folder\n"
   ]
  },
  {
   "cell_type": "code",
   "execution_count": 4,
   "metadata": {},
   "outputs": [
    {
     "name": "stdout",
     "output_type": "stream",
     "text": [
      "/home/daneswar/cmse202-F22-turnin/hw-03\r\n"
     ]
    }
   ],
   "source": [
    "!pwd"
   ]
  },
  {
   "cell_type": "markdown",
   "metadata": {},
   "source": [
    "&#9989; **Question 1.7 (1 point):** Finally push the updated notebook to GitHub.\n",
    "\n",
    "``` bash\n",
    "# Put the command you used to push to GitHub here.\n",
    "```\n"
   ]
  },
  {
   "cell_type": "markdown",
   "metadata": {},
   "source": [
    "**Important**: Double check you've added your Professor and your TA as collaborators to your \"turnin\" repository (you should have done this in the previous homework assignment).\n",
    "\n",
    "**Also important**: Make sure that the version of this notebook that you are working on is the same one that you just added to your repository! If you are working on a different copy of the notebook, **none of your changes will be tracked**!\n",
    "\n",
    "If everything went as intended, the file should now show up on your GitHub account in the \"`cmse202-f22-turnin`\" repository inside the `hw-03` directory that you just created within the new branch `hw03-branch`.\n",
    "\n",
    "Periodically, **you'll be asked to commit your changes to the repository and push them to the remote GitHub location**. Of course, you can always commit your changes more often than that, if you wish.  It can be good to get into a habit of committing your changes any time you make a significant modification, or when you stop working on the project for a bit.\n"
   ]
  },
  {
   "cell_type": "markdown",
   "metadata": {},
   "source": [
    "### &#128721; STOP\n",
    "**Pause to commit your changes to your Git repository! (1 point)**\n",
    "\n",
    "Take a moment to save your notebook, commit the changes to your Git repository using the commit message \"Committing Part 1\", and push the changes to GitHub.\n"
   ]
  },
  {
   "cell_type": "markdown",
   "metadata": {},
   "source": [
    "---\n",
    "<a id=\"part2\"></a>\n",
    "[Back to ToC](#toc)\n",
    "\n",
    "# Part 2: Analyzing an Agent-Based Model (22 points)\n",
    "\n",
    "For this problem, you will be working with an agent-based model that is based on a problem from Game Theory. The point is to find the best place to put grocery stores. A key assumption of our model is that **consumers will go to the grocery store that is closest to their home.** The  rules of the game are as follows:\n",
    "1. On a grid of size (x,y), create a set of randomly distributed homes. The probability that any grid point will have a home is proportional to the variable `population_density`, which is specified by the user (see the Forest Fire model from 201, where we used `f_trees_start` for the same purpose).\n",
    "1. Next, find the best place to put a grocery store. \n",
    "    - If this is the first grocery store in the area, place it in the location that has the smallest total distance from the houses in the area (I.e., minimize the sum of the distances between the grocery store and all of the houses).\n",
    "    - If there is already one or more grocery stores in the area, find the best location to put another store. The best place to put a store is the point where it is *the closest store to the largest number of houses.*\n",
    "\n"
   ]
  },
  {
   "cell_type": "markdown",
   "metadata": {},
   "source": [
    "### Part 2.1: Pre-Coding Questions\n",
    "\n",
    "&#9989; **Question 2.1.1 (1 point) Thinking about Programming Paradigms:** What type of programming paradigm do you think would make the most sense for solving this problem (Linear, Functional, or Object-Oriented)? Give an explanation for your answer.\n"
   ]
  },
  {
   "cell_type": "markdown",
   "metadata": {
    "ExecuteTime": {
     "end_time": "2022-10-17T20:14:20.645485Z",
     "start_time": "2022-10-17T20:14:20.642397Z"
    }
   },
   "source": [
    "*Write your response here*"
   ]
  },
  {
   "cell_type": "markdown",
   "metadata": {},
   "source": [
    "&#9989; **Question 2.1.2 (1 point) Making Predictions:** What do you think will be the best place to put the first grocery store? What about a second store? Provide an explanation."
   ]
  },
  {
   "cell_type": "markdown",
   "metadata": {},
   "source": [
    "*Write your response here*"
   ]
  },
  {
   "cell_type": "markdown",
   "metadata": {},
   "source": [
    "### Part 2.2: Modeling with Code\n",
    "\n",
    "&#9989; **Question 2.2.1 (1 point) Getting the Code:**\n",
    "We are providing you with code that models this game. Download the code here. Write the commands you used to download the code in the cell below. \n",
    "\n",
    "`https://raw.githubusercontent.com/msu-cmse-courses/cmse202-F22-data/main/HW/Homework_3/store_placement.py`\n"
   ]
  },
  {
   "cell_type": "code",
   "execution_count": 29,
   "metadata": {
    "ExecuteTime": {
     "end_time": "2022-10-17T20:44:51.478431Z",
     "start_time": "2022-10-17T20:44:51.476144Z"
    }
   },
   "outputs": [
    {
     "ename": "SyntaxError",
     "evalue": "invalid syntax (<ipython-input-29-c83446836ca0>, line 3)",
     "output_type": "error",
     "traceback": [
      "\u001b[0;36m  File \u001b[0;32m\"<ipython-input-29-c83446836ca0>\"\u001b[0;36m, line \u001b[0;32m3\u001b[0m\n\u001b[0;31m    curl -O https://raw.githubusercontent.com/msu-cmse-courses/cmse202-F22-data/main/HW/Homework_3/store_placement.py\u001b[0m\n\u001b[0m            ^\u001b[0m\n\u001b[0;31mSyntaxError\u001b[0m\u001b[0;31m:\u001b[0m invalid syntax\n"
     ]
    }
   ],
   "source": [
    "# Put the command to download the dataset here\n",
    "\n",
    "curl -O https://raw.githubusercontent.com/msu-cmse-courses/cmse202-F22-data/main/HW/Homework_3/store_placement.py"
   ]
  },
  {
   "cell_type": "markdown",
   "metadata": {},
   "source": [
    "&#9989; **Question 2.2.2 (1 point) Coding Paradigm:** What programming paradigm does this code use?"
   ]
  },
  {
   "cell_type": "markdown",
   "metadata": {},
   "source": [
    "It uses classes and objects. Therefore, it is an object oriented programming paradigm"
   ]
  },
  {
   "cell_type": "markdown",
   "metadata": {},
   "source": [
    "&#9989; **Question 2.2.3 (3 points) Documenting the Code:**\n",
    "In the cell below, *copy and paste the code from the file you just downloaded. Write doc strings for all of the functions in the code.*"
   ]
  },
  {
   "cell_type": "code",
   "execution_count": 30,
   "metadata": {
    "ExecuteTime": {
     "end_time": "2022-10-17T20:44:52.871002Z",
     "start_time": "2022-10-17T20:44:52.869066Z"
    }
   },
   "outputs": [],
   "source": [
    "# Copy the code here and add your docstrings \n",
    "\n",
    "class city():\n",
    "    def __init__(self,x_dim=5,y_dim=5,pop_density=0.5):\n",
    "        self.pop_density = pop_density\n",
    "        self.x_dim = x_dim\n",
    "        self.y_dim = y_dim\n",
    "        self.house_x = []\n",
    "        self.house_y = []\n",
    "        self.store_pos = []\n",
    "        self.list_of_dists = []\n",
    "        self.add_houses()\n",
    "\n",
    "    def add_houses(self):\n",
    "        for x in range(self.x_dim):\n",
    "            for y in range(self.y_dim):\n",
    "                if np.random.uniform() < self.pop_density:\n",
    "                    self.house_x.append(x)\n",
    "                    self.house_y.append(y)\n",
    "        self.house_x = np.array(self.house_x)\n",
    "        self.house_y = np.array(self.house_y)\n",
    "\n",
    "    def get_homes_served(self,dist_to_point):\n",
    "        homes_served = np.ones_like(self.house_x)\n",
    "        for kk in range(len(self.list_of_dists)):\n",
    "            close_houses = dist_to_point < self.list_of_dists[kk]\n",
    "            homes_served = np.logical_and(homes_served,close_houses)\n",
    "        return homes_served\n",
    "\n",
    "    def get_distance_to_point(self,x,y):\n",
    "        return np.hypot(x-self.house_x,y-self.house_y)\n",
    "\n",
    "    def find_best_store_loc(self):\n",
    "        best_position = []\n",
    "        best_homes_served = 0\n",
    "        best_distance = np.inf\n",
    "        for x in range(self.x_dim):\n",
    "            for y in range(self.y_dim):\n",
    "                dist_to_point = self.get_distance_to_point(x,y)\n",
    "                if len(self.store_pos) > 0:\n",
    "                    homes_served  = self.get_homes_served(dist_to_point)\n",
    "                    if sum(homes_served) > best_homes_served:\n",
    "                        best_position = [x,y]\n",
    "                        best_homes_served = sum(homes_served)\n",
    "                else:\n",
    "                    if np.sum(dist_to_point) < best_distance:\n",
    "                        best_distance = np.sum(dist_to_point)\n",
    "                        best_position = [x,y]\n",
    "        self.store_pos.append(best_position)\n",
    "        self.list_of_dists.append(self.get_distance_to_point(best_position[0],best_position[1]))\n",
    "\n",
    "    def draw(self):\n",
    "        store_x,store_y = list(zip(*self.store_pos))\n",
    "        plt.plot(self.house_x,self.house_y,markersize=8,color=\"tab:blue\",marker=\"s\",linestyle=\"None\")\n",
    "        plt.plot(store_x,store_y ,color='tab:red',markersize=25,marker=\".\",linestyle=\"None\")\n",
    "        plt.show()"
   ]
  },
  {
   "cell_type": "markdown",
   "metadata": {},
   "source": [
    "&#9989; **Question 2.2.4 (3 points) See the Agent? See the Model?:**\n",
    "Most agent-based models have three things: agents, actions, and an environment. Agents take actions–usually based on the environment and/or other agents–that affect the environment. Who are the agents in this model? What action(s) can they take? What is the environment? "
   ]
  },
  {
   "cell_type": "markdown",
   "metadata": {},
   "source": [
    "*Write your response here*"
   ]
  },
  {
   "cell_type": "markdown",
   "metadata": {},
   "source": [
    "&#9989; **Question 2.2.5 (4 points) Testing the Code: One Store**\n",
    "In the cell below, use the provided code to find the best place to put a single store. Make sure to make a visualization showing the houses and the store. What is the best place to put the first store? How does the output of the model compare to the prediction you made in question 2.1?"
   ]
  },
  {
   "cell_type": "code",
   "execution_count": 31,
   "metadata": {
    "ExecuteTime": {
     "end_time": "2022-10-17T20:44:54.262205Z",
     "start_time": "2022-10-17T20:44:54.260077Z"
    }
   },
   "outputs": [],
   "source": [
    "# Write your code here"
   ]
  },
  {
   "cell_type": "markdown",
   "metadata": {},
   "source": [
    "&#9989; **Question 2.2.6 (1 point)** Answer the following question:\n",
    "\n",
    "- How does this compare to your prediction?"
   ]
  },
  {
   "cell_type": "markdown",
   "metadata": {},
   "source": [
    "&#9989; **Question 2.2.7 (4 points) Testing the Code: Two Stores**\n",
    "In the cell below, use the provided code to find the best place to put two stores. Make sure to make a visualization showing the houses and the store. What is the best place to put the next store? How does the output of the model compare to the prediction you made in question 2.1?"
   ]
  },
  {
   "cell_type": "code",
   "execution_count": 32,
   "metadata": {
    "ExecuteTime": {
     "end_time": "2022-10-17T20:44:56.220370Z",
     "start_time": "2022-10-17T20:44:56.218280Z"
    }
   },
   "outputs": [],
   "source": [
    "# Write your code here"
   ]
  },
  {
   "cell_type": "markdown",
   "metadata": {
    "ExecuteTime": {
     "end_time": "2022-10-17T20:34:22.329122Z",
     "start_time": "2022-10-17T20:34:22.326246Z"
    }
   },
   "source": [
    "&#9989; **Question 2.2.8 (1 point)** Answer the followign question:\n",
    "\n",
    "- How does this compare to your prediction?"
   ]
  },
  {
   "cell_type": "markdown",
   "metadata": {},
   "source": [
    "### &#128721; STOP\n",
    "**Pause to commit your changes to your Git repository! (1 point)**\n",
    "\n",
    "Take a moment to save your notebook, commit the changes to your Git repository using the commit message \"Committing Part 2\", \n"
   ]
  },
  {
   "cell_type": "markdown",
   "metadata": {},
   "source": [
    "---\n",
    "<a id=\"part3\"></a>\n",
    "[Back to ToC](#toc)\n",
    "\n",
    "# Part 3: Graph Theory (28 points)\n",
    "\n",
    "Learning goals:\n",
    "\n",
    "- creating a network from data\n",
    "- do exploratory data analysis on the graph\n"
   ]
  },
  {
   "cell_type": "markdown",
   "metadata": {},
   "source": [
    "\n",
    "## Part 3.1: A Network of Thrones (9 points)\n",
    "\n",
    "In this part you will be working with graph in order to study a particular social network; the world of Westeros and Essos. This assignment is based on a publication in the Mathematical Association of America. Here is the [link](https://networkofthrones.wordpress.com/about/) of where everything is explained.\n",
    "\n",
    "<img src = \"https://images.squarespace-cdn.com/content/v1/5d3f5ab4e0b0f80001519db3/1626990700500-G54332NIRUZZ0G8XX8S0/8B05E165-D702-4DD5-8A90-5BABA9AAF8AE.jpeg?format=2500w\" width = 600>"
   ]
  },
  {
   "cell_type": "markdown",
   "metadata": {},
   "source": [
    "&#9989; **Question 3.1 (3 points)** To start we need the dataset. Download the edge list given in the link below and open it as a DataFrame with pandas and print the first 5 rows\n",
    "\n",
    "https://raw.githubusercontent.com/mathbeveridge/asoiaf/master/data/asoiaf-book1-edges.csv"
   ]
  },
  {
   "cell_type": "code",
   "execution_count": 33,
   "metadata": {
    "ExecuteTime": {
     "end_time": "2022-10-17T20:45:31.635369Z",
     "start_time": "2022-10-17T20:45:31.632941Z"
    }
   },
   "outputs": [
    {
     "ename": "SyntaxError",
     "evalue": "invalid syntax (<ipython-input-33-1f80112c5127>, line 3)",
     "output_type": "error",
     "traceback": [
      "\u001b[0;36m  File \u001b[0;32m\"<ipython-input-33-1f80112c5127>\"\u001b[0;36m, line \u001b[0;32m3\u001b[0m\n\u001b[0;31m    curl -O https://raw.githubusercontent.com/mathbeveridge/asoiaf/master/data/asoiaf-book1-edges.csv\u001b[0m\n\u001b[0m            ^\u001b[0m\n\u001b[0;31mSyntaxError\u001b[0m\u001b[0;31m:\u001b[0m invalid syntax\n"
     ]
    }
   ],
   "source": [
    "# Put the command to download the dataset here\n",
    "\n",
    "curl -O https://raw.githubusercontent.com/mathbeveridge/asoiaf/master/data/asoiaf-book1-edges.csv"
   ]
  },
  {
   "cell_type": "code",
   "execution_count": 34,
   "metadata": {
    "ExecuteTime": {
     "end_time": "2022-10-17T18:51:53.792434Z",
     "start_time": "2022-10-17T18:51:53.790691Z"
    },
    "scrolled": false
   },
   "outputs": [
    {
     "data": {
      "text/html": [
       "<div>\n",
       "<style scoped>\n",
       "    .dataframe tbody tr th:only-of-type {\n",
       "        vertical-align: middle;\n",
       "    }\n",
       "\n",
       "    .dataframe tbody tr th {\n",
       "        vertical-align: top;\n",
       "    }\n",
       "\n",
       "    .dataframe thead th {\n",
       "        text-align: right;\n",
       "    }\n",
       "</style>\n",
       "<table border=\"1\" class=\"dataframe\">\n",
       "  <thead>\n",
       "    <tr style=\"text-align: right;\">\n",
       "      <th></th>\n",
       "      <th>Source</th>\n",
       "      <th>Target</th>\n",
       "      <th>Type</th>\n",
       "      <th>weight</th>\n",
       "      <th>book</th>\n",
       "    </tr>\n",
       "  </thead>\n",
       "  <tbody>\n",
       "    <tr>\n",
       "      <th>0</th>\n",
       "      <td>Addam-Marbrand</td>\n",
       "      <td>Jaime-Lannister</td>\n",
       "      <td>Undirected</td>\n",
       "      <td>3</td>\n",
       "      <td>1</td>\n",
       "    </tr>\n",
       "    <tr>\n",
       "      <th>1</th>\n",
       "      <td>Addam-Marbrand</td>\n",
       "      <td>Tywin-Lannister</td>\n",
       "      <td>Undirected</td>\n",
       "      <td>6</td>\n",
       "      <td>1</td>\n",
       "    </tr>\n",
       "    <tr>\n",
       "      <th>2</th>\n",
       "      <td>Aegon-I-Targaryen</td>\n",
       "      <td>Daenerys-Targaryen</td>\n",
       "      <td>Undirected</td>\n",
       "      <td>5</td>\n",
       "      <td>1</td>\n",
       "    </tr>\n",
       "    <tr>\n",
       "      <th>3</th>\n",
       "      <td>Aegon-I-Targaryen</td>\n",
       "      <td>Eddard-Stark</td>\n",
       "      <td>Undirected</td>\n",
       "      <td>4</td>\n",
       "      <td>1</td>\n",
       "    </tr>\n",
       "    <tr>\n",
       "      <th>4</th>\n",
       "      <td>Aemon-Targaryen-(Maester-Aemon)</td>\n",
       "      <td>Alliser-Thorne</td>\n",
       "      <td>Undirected</td>\n",
       "      <td>4</td>\n",
       "      <td>1</td>\n",
       "    </tr>\n",
       "    <tr>\n",
       "      <th>...</th>\n",
       "      <td>...</td>\n",
       "      <td>...</td>\n",
       "      <td>...</td>\n",
       "      <td>...</td>\n",
       "      <td>...</td>\n",
       "    </tr>\n",
       "    <tr>\n",
       "      <th>679</th>\n",
       "      <td>Tyrion-Lannister</td>\n",
       "      <td>Willis-Wode</td>\n",
       "      <td>Undirected</td>\n",
       "      <td>4</td>\n",
       "      <td>1</td>\n",
       "    </tr>\n",
       "    <tr>\n",
       "      <th>680</th>\n",
       "      <td>Tyrion-Lannister</td>\n",
       "      <td>Yoren</td>\n",
       "      <td>Undirected</td>\n",
       "      <td>10</td>\n",
       "      <td>1</td>\n",
       "    </tr>\n",
       "    <tr>\n",
       "      <th>681</th>\n",
       "      <td>Tywin-Lannister</td>\n",
       "      <td>Varys</td>\n",
       "      <td>Undirected</td>\n",
       "      <td>4</td>\n",
       "      <td>1</td>\n",
       "    </tr>\n",
       "    <tr>\n",
       "      <th>682</th>\n",
       "      <td>Tywin-Lannister</td>\n",
       "      <td>Walder-Frey</td>\n",
       "      <td>Undirected</td>\n",
       "      <td>8</td>\n",
       "      <td>1</td>\n",
       "    </tr>\n",
       "    <tr>\n",
       "      <th>683</th>\n",
       "      <td>Waymar-Royce</td>\n",
       "      <td>Will-(prologue)</td>\n",
       "      <td>Undirected</td>\n",
       "      <td>18</td>\n",
       "      <td>1</td>\n",
       "    </tr>\n",
       "  </tbody>\n",
       "</table>\n",
       "<p>684 rows × 5 columns</p>\n",
       "</div>"
      ],
      "text/plain": [
       "                              Source              Target        Type  weight  \\\n",
       "0                     Addam-Marbrand     Jaime-Lannister  Undirected       3   \n",
       "1                     Addam-Marbrand     Tywin-Lannister  Undirected       6   \n",
       "2                  Aegon-I-Targaryen  Daenerys-Targaryen  Undirected       5   \n",
       "3                  Aegon-I-Targaryen        Eddard-Stark  Undirected       4   \n",
       "4    Aemon-Targaryen-(Maester-Aemon)      Alliser-Thorne  Undirected       4   \n",
       "..                               ...                 ...         ...     ...   \n",
       "679                 Tyrion-Lannister         Willis-Wode  Undirected       4   \n",
       "680                 Tyrion-Lannister               Yoren  Undirected      10   \n",
       "681                  Tywin-Lannister               Varys  Undirected       4   \n",
       "682                  Tywin-Lannister         Walder-Frey  Undirected       8   \n",
       "683                     Waymar-Royce     Will-(prologue)  Undirected      18   \n",
       "\n",
       "     book  \n",
       "0       1  \n",
       "1       1  \n",
       "2       1  \n",
       "3       1  \n",
       "4       1  \n",
       "..    ...  \n",
       "679     1  \n",
       "680     1  \n",
       "681     1  \n",
       "682     1  \n",
       "683     1  \n",
       "\n",
       "[684 rows x 5 columns]"
      ]
     },
     "execution_count": 34,
     "metadata": {},
     "output_type": "execute_result"
    }
   ],
   "source": [
    "# Put the code to open the dataset\n",
    "\n",
    "import pandas as pd\n",
    "\n",
    "df = pd.read_csv('asoiaf-book1-edges.csv', delimiter=',')\n",
    "df"
   ]
  },
  {
   "cell_type": "markdown",
   "metadata": {},
   "source": [
    "&#9989; **Question 3.1.2 (12 points)** As you can see this dataset represents the __edge list__ of a graph. This graph was created by counting the number of interactions between two characters in the book. The characters represent the nodes and the edges represent an interaction between two characters. Specifically, if two characters appeared within 15 words of each other then we create an edge between them. \n",
    "\n",
    "Before we make a graph out of it, answer the following questions you might need to do some coding:\n",
    "\n",
    "1. What type of graph is this ? Directed or Undirected ? (1 point)\n",
    "2. What does the column `weight` indicate ? (1 point)\n",
    "3. How many edges will the graph have ? (2 points)\n",
    "4. How many nodes will the graph have ? (4 points) _Hint:_ It is not 139 nor 143\n",
    "5. How many interaction are there between Eddard-Stark and Cersei-Lannister ? (2 points)\n",
    "6. How many total interactions are in the entire first book ? (2 point)\n",
    "\n",
    "You need to show some code in order to get the points\n",
    "\n",
    "**IMPORTANT:** You should not make a graph yet! You need to answer the above questions without making a graph. The reason for this is so that you practice finding strategies to get your answers.\n",
    "\n"
   ]
  },
  {
   "cell_type": "code",
   "execution_count": 35,
   "metadata": {
    "ExecuteTime": {
     "end_time": "2022-10-17T18:51:55.608245Z",
     "start_time": "2022-10-17T18:51:55.606629Z"
    }
   },
   "outputs": [
    {
     "data": {
      "text/plain": [
       "0      Undirected\n",
       "1      Undirected\n",
       "2      Undirected\n",
       "3      Undirected\n",
       "4      Undirected\n",
       "          ...    \n",
       "679    Undirected\n",
       "680    Undirected\n",
       "681    Undirected\n",
       "682    Undirected\n",
       "683    Undirected\n",
       "Name: Type, Length: 684, dtype: object"
      ]
     },
     "execution_count": 35,
     "metadata": {},
     "output_type": "execute_result"
    }
   ],
   "source": [
    "# Put your code here\n",
    "\n",
    "df['Type']"
   ]
  },
  {
   "cell_type": "code",
   "execution_count": 36,
   "metadata": {},
   "outputs": [
    {
     "data": {
      "text/plain": [
       "pandas.core.series.Series"
      ]
     },
     "execution_count": 36,
     "metadata": {},
     "output_type": "execute_result"
    }
   ],
   "source": [
    "type(df['weight'])"
   ]
  },
  {
   "cell_type": "code",
   "execution_count": 77,
   "metadata": {},
   "outputs": [
    {
     "data": {
      "text/plain": [
       "684"
      ]
     },
     "execution_count": 77,
     "metadata": {},
     "output_type": "execute_result"
    }
   ],
   "source": [
    "\n",
    "edges = len(df)\n",
    "edges"
   ]
  },
  {
   "cell_type": "code",
   "execution_count": 76,
   "metadata": {},
   "outputs": [
    {
     "name": "stdout",
     "output_type": "stream",
     "text": [
      "187\n"
     ]
    }
   ],
   "source": [
    "nodes = set()\n",
    "for n in df['Source']:\n",
    "    nodes.add(n)\n",
    "for t in df['Target']:\n",
    "    nodes.add(t)   \n",
    "\n",
    "print(len(nodes))"
   ]
  },
  {
   "cell_type": "code",
   "execution_count": 39,
   "metadata": {
    "scrolled": true
   },
   "outputs": [
    {
     "name": "stdout",
     "output_type": "stream",
     "text": [
      "1\n"
     ]
    }
   ],
   "source": [
    "interaction = 0\n",
    "for i in range(684):\n",
    "    if (df['Source'][i] == \"Eddard-Stark\" and df['Target'][i] == \"Cersei-Lannister\") or (df['Source'][i] == \"Cersei-Lannister\" and df['Target'][i] == \"Eddard-Stark\") :\n",
    "        interaction += 1\n",
    "print(interaction)"
   ]
  },
  {
   "cell_type": "code",
   "execution_count": 40,
   "metadata": {},
   "outputs": [
    {
     "name": "stdout",
     "output_type": "stream",
     "text": [
      "684\n"
     ]
    }
   ],
   "source": [
    "count = 0\n",
    "for i in range(684):\n",
    "    if df['book'][i] == 1:\n",
    "        count +=1\n",
    "print(count)"
   ]
  },
  {
   "cell_type": "markdown",
   "metadata": {},
   "source": [
    "&#9989; **Question 3.2 (2 points)** Create a graph from this dataset using `networkx`.\n",
    "\n",
    "*Note:* `nx.Graph` won't work here. You need to find a `networkx` function that can read edge list from datasets."
   ]
  },
  {
   "cell_type": "code",
   "execution_count": 71,
   "metadata": {
    "ExecuteTime": {
     "end_time": "2022-10-17T21:00:08.827809Z",
     "start_time": "2022-10-17T21:00:08.825695Z"
    }
   },
   "outputs": [
    {
     "data": {
      "text/plain": [
       "Text(0.5, 1.0, 'A Network of Thrones')"
      ]
     },
     "execution_count": 71,
     "metadata": {},
     "output_type": "execute_result"
    },
    {
     "data": {
      "image/png": "[encoded data removed]",
      "text/plain": [
       "<Figure size 432x288 with 1 Axes>"
      ]
     },
     "metadata": {},
     "output_type": "display_data"
    }
   ],
   "source": [
    "G = nx.from_pandas_edgelist(df, source='Source', target='Target')\n",
    "nx.draw(G)\n",
    "plt.title('A Network of Thrones')"
   ]
  },
  {
   "cell_type": "markdown",
   "metadata": {},
   "source": [
    "&#9989; **Question 3.2.1 (2 points)** Let's check that your previous answers are correct. Print the number of nodes and edges "
   ]
  },
  {
   "cell_type": "code",
   "execution_count": 72,
   "metadata": {
    "ExecuteTime": {
     "end_time": "2022-10-17T21:00:09.966491Z",
     "start_time": "2022-10-17T21:00:09.964917Z"
    },
    "scrolled": false
   },
   "outputs": [
    {
     "name": "stdout",
     "output_type": "stream",
     "text": [
      "Number of nodes: 187\n",
      "Number of edges: 684\n"
     ]
    }
   ],
   "source": [
    "# Put your code here\n",
    "nodes = list(G.nodes)\n",
    "print(\"Number of nodes:\",len(nodes))\n",
    "edges = list(G.edges)\n",
    "print(\"Number of edges:\",len(edges))\n"
   ]
  },
  {
   "cell_type": "markdown",
   "metadata": {
    "ExecuteTime": {
     "end_time": "2022-10-05T23:14:05.313104Z",
     "start_time": "2022-10-05T23:14:04.878941Z"
    }
   },
   "source": [
    "## Who is the most important character? \n",
    "\n",
    "Below you can find a representation of the graph of the network of thrones and you can see it is a very complex network. Unfortunately it is very difficult to create such a graph with `networkx`, as a matter of fact `networkx` documentation says that it is better to use dedicated software for this. [Ref](https://networkx.org/documentation/stable/reference/drawing.html#:~:text=Proper%20graph%20visualization%20is%20hard%2C%20and%20we%20highly%20recommend%20that%20people%20visualize%20their%20graphs%20with%20tools%20dedicated%20to%20that%20task.%20Notable%20examples%20of%20dedicated%20and%20fully%2Dfeatured%20graph%20visualization%20tools%20are%20Cytoscape%2C%20Gephi%2C%20Graphviz%20and%2C%20for%20LaTeX%20typesetting%2C%20PGF/TikZ.) \n",
    "\n",
    "So here is the result of someone else' work to make our life easy for now. The colors in the graph indicate a particular community. If you want to know more how the researchers define community you can read their work [here](https://www.maa.org/sites/default/files/pdf/Mathhorizons/NetworkofThrones%20%281%29.pdf).\n",
    "\n",
    "<img src=\"https://networkofthrones.files.wordpress.com/2017/07/got1v3-network.png?w=676\" width = 676>\n",
    "\n",
    "[Image credit](https://networkofthrones.wordpress.com/the-novels/a-game-of-thrones/)\n",
    "\n",
    "The goal of all data science projects is to answer a **specific** question. The network of thrones is a very complex network where no single character stands out as protagonist. As a matter of fact there is no protagonist in Game of Thrones, especially because you don't know if that character will survive till the end of the chapter. So let's try and find the answer to the following question:\n",
    "\n",
    "    Who is the most important character in book 1 ?\n",
    "\n",
    "### Centrality\n",
    "But what does it mean to be _the most important character_ ? How do we define _important_ ? Well, in the world of TV critics everybody will have their opinion so let's create our own based on science. Luckily in network science we can measure the importance (or centrality) of each node. However, even in math there are multiple definitions of centrality. [Here](https://en.wikipedia.org/wiki/Centrality) is a list of possible network centrality measures. Obviously there are too many of them, so we will select only a few\n",
    "\n",
    "### Degree\n",
    "The simplest centrality measure is to count the number of edges connected to each node. This number is called the `degree` of each node and you can use the **method** [`degree`](https://networkx.org/documentation/stable/reference/generated/networkx.classes.function.degree.html#degree) to calculate it.  \n",
    "\n",
    "### Weighted Degree Centrality\n",
    "The second simplest centrality measure is to weight the degree of each node based on the weight of its edges. In other words calculated the degree of each node by summing the weight of each of its edges. `networkx` does not have a function to calculate this, however, the **method** [`degree`](https://networkx.org/documentation/stable/reference/generated/networkx.classes.function.degree.html#degree) does have an option `weight` in it. \n",
    "\n",
    "### [Eigenvector Centrality](https://en.wikipedia.org/wiki/Eigenvector_centrality)\n",
    "Let's get a little more complex now. Graphs can be represented as square matrices as such we can do some linear algebra on them. Specifically, we can find the eigenvectors and eigenvalues of the matrix. Mathematically, each node is given a score based on this equation\n",
    "\n",
    "$$n_i = \\frac{1}{\\lambda} \\sum_{j} a_{i,j} n_j$$\n",
    "\n",
    "where $n_i$ is the $i$th node, $a_{i,j}$ is equal to 1 if the $n_i$ and $n_j$ are connected and 0 otherwise, and $\\lambda$ is the largest eigenvalue of the adjacency matrix. In other words a high eigenvector centrality score for node $n_i$ indicates that it is connected to many other nodes who themselves have high eigenvector centrality scores. In terms of our network of thrones, it means that a character with a high eigenvector scores is connected to many other characters who themselves are well connected, _i.e._ how powerful are your connections? \n",
    "\n",
    "Don't worry I won't ask you to write a code to do the above math, `networkx` has a function for it. It is called, [`eigenvector_centrality`](https://networkx.org/documentation/stable/reference/algorithms/generated/networkx.algorithms.centrality.degree_centrality.html). \n",
    "\n",
    "### Weighted Eigenvector Centrality\n",
    "Notice that the matrix elements $a_{ij}$ above are either 1 or 0. What if we use the weights of the edges as the matrix elements? This can be easily done by adding the option `weight = \"weight\"` into the function [`eigenvector_centrality`](https://networkx.org/documentation/stable/reference/algorithms/generated/networkx.algorithms.centrality.degree_centrality.html). \n",
    "\n",
    "\n",
    "&#9989; **Question 3.3 (8 points)** In the following cell or cells write some code that:\n",
    "    - calculates the **degree, weighted degree, eigenvector centrality, and weighted eigenvector centrality** for each node\n",
    "    - makes a plot that shows the first five central characters according to each measure. Your plot should be similar to the one below\n",
    "    \n",
    "\n",
    "![image](https://github.com/msu-cmse-courses/cmse202-F22-data/blob/main/HW/Homework_3/got_plots.png)"
   ]
  },
  {
   "cell_type": "code",
   "execution_count": 176,
   "metadata": {},
   "outputs": [
    {
     "data": {
      "text/plain": [
       "[0.29640893871843454,\n",
       " 0.2694880017758138,\n",
       " 0.23155019835665291,\n",
       " 0.22520388145217876,\n",
       " 0.22075394589376898]"
      ]
     },
     "execution_count": 176,
     "metadata": {},
     "output_type": "execute_result"
    }
   ],
   "source": [
    "sorted_ec"
   ]
  },
  {
   "cell_type": "code",
   "execution_count": 171,
   "metadata": {
    "ExecuteTime": {
     "end_time": "2022-10-17T21:00:11.693594Z",
     "start_time": "2022-10-17T21:00:11.418185Z"
    }
   },
   "outputs": [
    {
     "data": {
      "text/plain": [
       "[<matplotlib.lines.Line2D at 0x7fd86fa8dbb0>]"
      ]
     },
     "execution_count": 171,
     "metadata": {},
     "output_type": "execute_result"
    },
    {
     "data": {
      "image/png": "[encoded data removed]",
      "text/plain": [
       "<Figure size 1368x432 with 4 Axes>"
      ]
     },
     "metadata": {
      "needs_background": "light"
     },
     "output_type": "display_data"
    }
   ],
   "source": [
    "# Put your code here\n",
    "degree = G.degree(nodes)\n",
    "weighted_degree = G.degree(nodes,edges)\n",
    "ec = nx.eigenvector_centrality(G)\n",
    "weighted_ec = nx.eigenvector_centrality(G, weight = \"weight\")\n",
    "\n",
    "\n",
    "# make your plot here using the fig, ax created above\n",
    "fig, axes = plt.subplots(1, 4, figsize = (19, 6))\n",
    "\n",
    "sorted_degree = sorted(degree, key=lambda t: t[1], reverse=True)[:5]\n",
    "sorted_ec = sorted(ec.values(), reverse=True)[:5]\n",
    "sorted_wdegree = sorted(weighted_degree, key=lambda t: t[1], reverse=True)[:5]\n",
    "sorted_wec = sorted(weighted_ec.values(), reverse=True)[:5]\n",
    "\n",
    "# Degree \n",
    "degree_list = []\n",
    "for d in sorted_degree:\n",
    "    degree_list.append(d[1])\n",
    "\n",
    "axes[0].plot(degree_list)\n",
    "\n",
    "# Weighted Degree\n",
    "wdegree_list = []\n",
    "for w in sorted_wdegree:\n",
    "    wdegree_list.append(w[1])\n",
    "    \n",
    "axes[1].plot(wdegree_list)\n",
    "\n",
    "# Eigenvector Centrality\n",
    "ec_list = []\n",
    "for e in sorted_ec:\n",
    "    ec_list.append(e)\n",
    "    \n",
    "axes[2].plot(ec_list)\n",
    "\n",
    "# Weighted Eigenvector Centrality\n",
    "wec_list = []\n",
    "for c in sorted_wec:\n",
    "    wec_list.append(c)\n",
    "    \n",
    "axes[3].plot(wec_list)"
   ]
  },
  {
   "cell_type": "markdown",
   "metadata": {},
   "source": [
    "&#9989; **Question 3.3.1 (5 points)** All four measures seems to agree on the first two most important characters. However, they don't agree on the third most important person. Based on the above analysis who would you say is the third most important and why did you choose them? Explain your answer.\n",
    "\n",
    "_Note:_ This question does not have a correct answer. You will get full points if you provide a well thought reason for your answer. However, you get zero points if you just give a name without explanation. \n",
    "Here are examples of answers that will still get zero points:\n",
    "\n",
    "- [character name] because I watched all the seasons of Game of thrones and know where this is going.\n",
    "- [character name] because they are my favorite character.\n",
    "- [character_name] because I don't have time to do this question\n",
    "- Jon Snow because like him I don't know nothing\n",
    "\n",
    "The following is an example of an answer worth 2 points\n",
    "\n",
    "- [character_name] because they appear in the top five of at least three metrics\n",
    "\n"
   ]
  },
  {
   "cell_type": "markdown",
   "metadata": {},
   "source": []
  },
  {
   "cell_type": "markdown",
   "metadata": {},
   "source": [
    "\n",
    "### &#128721; STOP\n",
    "**Pause to commit your changes to your Git repository! (1 point)**\n",
    "\n",
    "Take a moment to save your notebook, commit the changes to your Git repository using the commit message \"Committing Part 3\", "
   ]
  },
  {
   "cell_type": "markdown",
   "metadata": {},
   "source": [
    "---\n",
    "\n",
    "<a id=\"part4\"></a>\n",
    "[Back to ToC](#toc)\n",
    "\n",
    "# Part 4. Finishing up (3 points)\n",
    "\n",
    "\n",
    "It is now time to merge your changes to the main branch and push"
   ]
  },
  {
   "cell_type": "markdown",
   "metadata": {},
   "source": [
    "&#9989; **Question 4.1 (1 point):** Switch to your main branch\n",
    "\n",
    "```bash\n",
    "# Put the command(s) to switch to your main branch\n",
    "```"
   ]
  },
  {
   "cell_type": "markdown",
   "metadata": {},
   "source": [
    "&#9989; **Question 4.2 (1 point):** Merge your hw04-branch\n",
    "\n",
    "```bash\n",
    "# Put the command(s) to merge your branch\n",
    "```"
   ]
  },
  {
   "cell_type": "markdown",
   "metadata": {
    "ExecuteTime": {
     "end_time": "2022-10-17T20:59:31.700043Z",
     "start_time": "2022-10-17T20:59:31.697281Z"
    }
   },
   "source": [
    "&#9989; **Question 4.3 (1 point):** Finally push the changes to GitHub\n",
    "\n",
    "```bash\n",
    "# Put the command(s) to push your new main branch\n",
    "```"
   ]
  },
  {
   "cell_type": "markdown",
   "metadata": {},
   "source": [
    "## Assignment wrap-up\n",
    "\n",
    "Please fill out the form that appears when you run the code below.  **You must completely fill this out in order to receive credit for the assignment!**"
   ]
  },
  {
   "cell_type": "code",
   "execution_count": 23,
   "metadata": {
    "ExecuteTime": {
     "end_time": "2022-10-17T20:57:09.785240Z",
     "start_time": "2022-10-17T20:57:09.777675Z"
    }
   },
   "outputs": [
    {
     "data": {
      "text/html": [
       "\n",
       "<iframe \n",
       "\tsrc=\"https://forms.office.com/r/WgM1mw9He8\" \n",
       "\twidth=\"800px\" \n",
       "\theight=\"600px\" \n",
       "\tframeborder=\"0\" \n",
       "\tmarginheight=\"0\" \n",
       "\tmarginwidth=\"0\">\n",
       "\tLoading...\n",
       "</iframe>\n"
      ],
      "text/plain": [
       "<IPython.core.display.HTML object>"
      ]
     },
     "execution_count": 23,
     "metadata": {},
     "output_type": "execute_result"
    }
   ],
   "source": [
    "from IPython.display import HTML\n",
    "HTML(\n",
    "\"\"\"\n",
    "<iframe \n",
    "\tsrc=\"https://forms.office.com/r/WgM1mw9He8\" \n",
    "\twidth=\"800px\" \n",
    "\theight=\"600px\" \n",
    "\tframeborder=\"0\" \n",
    "\tmarginheight=\"0\" \n",
    "\tmarginwidth=\"0\">\n",
    "\tLoading...\n",
    "</iframe>\n",
    "\"\"\"\n",
    ")"
   ]
  },
  {
   "cell_type": "markdown",
   "metadata": {},
   "source": [
    "### Congratulations, you're done!\n",
    "\n",
    "Submit this assignment by uploading it to the course Desire2Learn web page.  Go to the \"Homework Assignments\" folder, find the dropbox link for Homework #3, and upload **your notebook** there."
   ]
  },
  {
   "cell_type": "markdown",
   "metadata": {},
   "source": [
    "&#169; Copyright 2022,  Department of Computational Mathematics, Science and Engineering at Michigan State University"
   ]
  },
  {
   "cell_type": "code",
   "execution_count": null,
   "metadata": {},
   "outputs": [],
   "source": []
  }
 ],
 "metadata": {
  "anaconda-cloud": {},
  "kernelspec": {
   "display_name": "Python 3",
   "language": "python",
   "name": "python3"
  },
  "language_info": {
   "codemirror_mode": {
    "name": "ipython",
    "version": 3
   },
   "file_extension": ".py",
   "mimetype": "text/x-python",
   "name": "python",
   "nbconvert_exporter": "python",
   "pygments_lexer": "ipython3",
   "version": "3.8.8"
  },
  "latex_envs": {
   "LaTeX_envs_menu_present": true,
   "autoclose": false,
   "autocomplete": true,
   "bibliofile": "biblio.bib",
   "cite_by": "apalike",
   "current_citInitial": 1,
   "eqLabelWithNumbers": true,
   "eqNumInitial": 1,
   "hotkeys": {
    "equation": "Ctrl-E",
    "itemize": "Ctrl-I"
   },
   "labels_anchors": false,
   "latex_user_defs": false,
   "report_style_numbering": false,
   "user_envs_cfg": false
  },
  "widgets": {
   "application/vnd.jupyter.widget-state+json": {
    "state": {},
    "version_major": 2,
    "version_minor": 0
   }
  }
 },
 "nbformat": 4,
 "nbformat_minor": 4
}
